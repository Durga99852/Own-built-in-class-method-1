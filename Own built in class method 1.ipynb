{
 "cells": [
  {
   "cell_type": "code",
   "execution_count": null,
   "id": "200bdb1d",
   "metadata": {},
   "outputs": [],
   "source": []
  },
  {
   "cell_type": "code",
   "execution_count": 1,
   "id": "5e2d8aff",
   "metadata": {},
   "outputs": [
    {
     "name": "stdout",
     "output_type": "stream",
     "text": [
      "100\n"
     ]
    }
   ],
   "source": [
    "class abc:         #create a class\n",
    "    def f(x,y):    #create a function\n",
    "        return pow(x,y)\n",
    "print(abc.f(10,2))     #taken as input values"
   ]
  },
  {
   "cell_type": "code",
   "execution_count": null,
   "id": "cc6a2f22",
   "metadata": {},
   "outputs": [],
   "source": [
    "#test case"
   ]
  },
  {
   "cell_type": "code",
   "execution_count": 2,
   "id": "26b16b1e",
   "metadata": {},
   "outputs": [
    {
     "name": "stdout",
     "output_type": "stream",
     "text": [
      "71149225\n"
     ]
    }
   ],
   "source": [
    "class abc:         #create a class\n",
    "    def f(x,y):    #create a function\n",
    "        return pow(x,y)\n",
    "print(abc.f(8435,2))     #taken as input values"
   ]
  },
  {
   "cell_type": "code",
   "execution_count": null,
   "id": "23d59bf7",
   "metadata": {},
   "outputs": [],
   "source": [
    "#test case"
   ]
  },
  {
   "cell_type": "code",
   "execution_count": 3,
   "id": "db117fd7",
   "metadata": {},
   "outputs": [
    {
     "name": "stdout",
     "output_type": "stream",
     "text": [
      "0.208849\n"
     ]
    }
   ],
   "source": [
    "class abc:         #create a class\n",
    "    def f(x,y):    #create a function\n",
    "        return pow(x,y)\n",
    "print(abc.f(0.457,2))     #taken as input values"
   ]
  },
  {
   "cell_type": "code",
   "execution_count": null,
   "id": "c6fd565b",
   "metadata": {},
   "outputs": [],
   "source": []
  },
  {
   "cell_type": "code",
   "execution_count": null,
   "id": "b6bded3e",
   "metadata": {},
   "outputs": [],
   "source": []
  },
  {
   "cell_type": "code",
   "execution_count": null,
   "id": "e352dd14",
   "metadata": {},
   "outputs": [],
   "source": []
  }
 ],
 "metadata": {
  "kernelspec": {
   "display_name": "Python 3 (ipykernel)",
   "language": "python",
   "name": "python3"
  },
  "language_info": {
   "codemirror_mode": {
    "name": "ipython",
    "version": 3
   },
   "file_extension": ".py",
   "mimetype": "text/x-python",
   "name": "python",
   "nbconvert_exporter": "python",
   "pygments_lexer": "ipython3",
   "version": "3.10.0"
  }
 },
 "nbformat": 4,
 "nbformat_minor": 5
}
