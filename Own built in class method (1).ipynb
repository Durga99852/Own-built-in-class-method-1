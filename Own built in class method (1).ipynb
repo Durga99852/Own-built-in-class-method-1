{
 "cells": [
  {
   "cell_type": "code",
   "execution_count": null,
   "id": "46a80c5c",
   "metadata": {},
   "outputs": [],
   "source": []
  },
  {
   "cell_type": "code",
   "execution_count": 5,
   "id": "3780d0ee",
   "metadata": {},
   "outputs": [
    {
     "name": "stdout",
     "output_type": "stream",
     "text": [
      "100\n"
     ]
    }
   ],
   "source": [
    "class Solution (object):       #create a class\n",
    "    def myPow(self , x , n):   #create a function\n",
    "        power = abs(n)\n",
    "        res = 1                #taken as output response\n",
    "        while power:           \n",
    "            if power & 1:\n",
    "                res *=x\n",
    "            x*=x\n",
    "            power>>=1\n",
    "        if n<0:\n",
    "            return 1/res \n",
    "        return res\n",
    "ob1=Solution()\n",
    "print(ob1.myPow(10,2))      #taken as input values"
   ]
  },
  {
   "cell_type": "code",
   "execution_count": null,
   "id": "8c230907",
   "metadata": {},
   "outputs": [],
   "source": [
    "#test case"
   ]
  },
  {
   "cell_type": "code",
   "execution_count": 8,
   "id": "47155b1b",
   "metadata": {},
   "outputs": [
    {
     "name": "stdout",
     "output_type": "stream",
     "text": [
      "557112.96\n"
     ]
    }
   ],
   "source": [
    "class Solution (object):       #create a class\n",
    "    def myPow(self , x , n):   #create a function\n",
    "        power = abs(n)\n",
    "        res = 1                #taken as output response\n",
    "        while power:           \n",
    "            if power & 1:\n",
    "                res *=x\n",
    "            x*=x\n",
    "            power>>=1\n",
    "        if n<0:\n",
    "            return 1/res \n",
    "        return res\n",
    "ob1=Solution()\n",
    "print(ob1.myPow(746.4,2))      #taken as input values"
   ]
  },
  {
   "cell_type": "code",
   "execution_count": null,
   "id": "ff472cfe",
   "metadata": {},
   "outputs": [],
   "source": [
    "#test case"
   ]
  },
  {
   "cell_type": "code",
   "execution_count": 6,
   "id": "be18f551",
   "metadata": {},
   "outputs": [
    {
     "name": "stdout",
     "output_type": "stream",
     "text": [
      "113.8489\n"
     ]
    }
   ],
   "source": [
    "class Solution (object):       #create a class\n",
    "    def myPow(self , x , n):   #create a function\n",
    "        power = abs(n)\n",
    "        res = 1                #taken as output response\n",
    "        while power:           \n",
    "            if power & 1:\n",
    "                res *=x\n",
    "            x*=x\n",
    "            power>>=1\n",
    "        if n<0:\n",
    "            return 1/res \n",
    "        return res\n",
    "ob1=Solution()\n",
    "print(ob1.myPow(10.67,2))      #taken as input values"
   ]
  },
  {
   "cell_type": "code",
   "execution_count": null,
   "id": "48a386b3",
   "metadata": {},
   "outputs": [],
   "source": []
  },
  {
   "cell_type": "code",
   "execution_count": null,
   "id": "23708856",
   "metadata": {},
   "outputs": [],
   "source": []
  },
  {
   "cell_type": "code",
   "execution_count": null,
   "id": "b019d91f",
   "metadata": {},
   "outputs": [],
   "source": []
  },
  {
   "cell_type": "code",
   "execution_count": null,
   "id": "f3e92f8d",
   "metadata": {},
   "outputs": [],
   "source": []
  },
  {
   "cell_type": "code",
   "execution_count": null,
   "id": "e45589b7",
   "metadata": {},
   "outputs": [],
   "source": []
  },
  {
   "cell_type": "code",
   "execution_count": null,
   "id": "ad28c1e5",
   "metadata": {},
   "outputs": [],
   "source": []
  },
  {
   "cell_type": "code",
   "execution_count": null,
   "id": "85322d68",
   "metadata": {},
   "outputs": [],
   "source": []
  },
  {
   "cell_type": "code",
   "execution_count": null,
   "id": "dced44cc",
   "metadata": {},
   "outputs": [],
   "source": []
  },
  {
   "cell_type": "code",
   "execution_count": null,
   "id": "b5b746b6",
   "metadata": {},
   "outputs": [],
   "source": []
  }
 ],
 "metadata": {
  "kernelspec": {
   "display_name": "Python 3 (ipykernel)",
   "language": "python",
   "name": "python3"
  },
  "language_info": {
   "codemirror_mode": {
    "name": "ipython",
    "version": 3
   },
   "file_extension": ".py",
   "mimetype": "text/x-python",
   "name": "python",
   "nbconvert_exporter": "python",
   "pygments_lexer": "ipython3",
   "version": "3.10.0"
  }
 },
 "nbformat": 4,
 "nbformat_minor": 5
}
